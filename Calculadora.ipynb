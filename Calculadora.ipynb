{
 "cells": [
  {
   "cell_type": "code",
   "execution_count": 2,
   "id": "fda44393",
   "metadata": {},
   "outputs": [
    {
     "name": "stdout",
     "output_type": "stream",
     "text": [
      "Seleccione la operación:\n",
      "1. Suma\n",
      "2. Resta\n",
      "3. Multiplicacion\n",
      "4. Dividision\n",
      "Ingresa el numero de la operacion que desea: (1/2/3/4)3\n",
      "ingresa un numero: 5\n",
      "ingresa otro numero: 5\n",
      "el resultado de la multiplicacion es : 25\n"
     ]
    }
   ],
   "source": [
    "#Calculadora completa\n",
    "\n",
    "def Sumar(num_1,num_2):\n",
    "    return num_1 + num_2\n",
    "\n",
    "def resta (num_1,num_2):\n",
    "    return num_1 - num_2\n",
    "   \n",
    "def multi (num_1,num_2):\n",
    "    return num_1 * num_2\n",
    "\n",
    "def division (num_1,num_2):\n",
    "    if num_2 != 0:\n",
    "        return num_1 / num_2\n",
    "    else:\n",
    "        return \"Error: operacion no permitida\"\n",
    "\n",
    "print(\"Seleccione la operación:\") \n",
    "print(\"1. Suma\") \n",
    "print(\"2. Resta\") \n",
    "print(\"3. Multiplicacion\") \n",
    "print(\"4. Dividision\")\n",
    "\n",
    "operacion = input(\"Ingresa el numero de la operacion que desea: (1/2/3/4)\")\n",
    "\n",
    "\n",
    "num_1 = int(input(\"ingresa un numero: \"))\n",
    "num_2 = int(input(\"ingresa otro numero: \"))\n",
    "\n",
    "if operacion == \"1\":\n",
    "    resultado = Sumar(num_1,num_2)\n",
    "    print(f\"el resultado de la suma es : {resultado}\")\n",
    "    \n",
    "elif operacion == \"2\":\n",
    "    resultado = resta (num_1,num_2)\n",
    "    print(f\"el resultado de la resta es : {resultado}\")\n",
    "\n",
    "elif operacion == \"3\":\n",
    "    resultado = multi (num_1,num_2)\n",
    "    print(f\"el resultado de la multiplicacion es : {resultado}\")\n",
    "    \n",
    "elif operacion == \"4\":\n",
    "    resultado = division (num_1,num_2)\n",
    "    print(f\"el resultado de la division es : {resultado}\")\n",
    "    \n",
    "else:\n",
    "    print(\"Error operacion no valida en el sistema\")\n"
   ]
  },
  {
   "cell_type": "code",
   "execution_count": null,
   "id": "6ad4aefe",
   "metadata": {},
   "outputs": [],
   "source": []
  }
 ],
 "metadata": {
  "kernelspec": {
   "display_name": "Python 3 (ipykernel)",
   "language": "python",
   "name": "python3"
  },
  "language_info": {
   "codemirror_mode": {
    "name": "ipython",
    "version": 3
   },
   "file_extension": ".py",
   "mimetype": "text/x-python",
   "name": "python",
   "nbconvert_exporter": "python",
   "pygments_lexer": "ipython3",
   "version": "3.11.7"
  }
 },
 "nbformat": 4,
 "nbformat_minor": 5
}
